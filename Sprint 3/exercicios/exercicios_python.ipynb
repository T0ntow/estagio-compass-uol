{
 "cells": [
  {
   "cell_type": "markdown",
   "id": "dba68475",
   "metadata": {},
   "source": [
    "# Exercícios python"
   ]
  },
  {
   "cell_type": "code",
   "execution_count": 3,
   "id": "dcfbf1ba",
   "metadata": {},
   "outputs": [
    {
     "name": "stdout",
     "output_type": "stream",
     "text": [
      "2104\n"
     ]
    }
   ],
   "source": [
    "# Exercício 1\n",
    "nome = \"Wellington\"\n",
    "idade = 20\n",
    "\n",
    "# Calculando o ano em que a pessoa completará 100 anos\n",
    "ano_completando_100 = 2024 + (100 - idade)\n",
    "\n",
    "# Imprimindo o resultado\n",
    "print(ano_completando_100)\n"
   ]
  },
  {
   "cell_type": "code",
   "execution_count": 4,
   "id": "08161f2a",
   "metadata": {},
   "outputs": [
    {
     "name": "stdout",
     "output_type": "stream",
     "text": [
      "Ímpar: 1\n",
      "Par: 2\n",
      "Ímpar: 3\n"
     ]
    }
   ],
   "source": [
    "# Exercício 2\n",
    "\n",
    "numeros = list(range(1,4))  # Adiciona os números 2, 3 e 4\n",
    "\n",
    "# Itera sobre cada número na lista 'números'\n",
    "for número in numeros:\n",
    "    # Verifica se o número é par ou ímpar\n",
    "    if número % 2 == 0:\n",
    "        print(f\"Par: {número}\")\n",
    "    else:\n",
    "        print(f\"Ímpar: {número}\")\n",
    "\n"
   ]
  },
  {
   "cell_type": "code",
   "execution_count": 5,
   "id": "3858ce5e",
   "metadata": {},
   "outputs": [
    {
     "name": "stdout",
     "output_type": "stream",
     "text": [
      "0\n",
      "2\n",
      "4\n",
      "6\n",
      "8\n",
      "10\n",
      "12\n",
      "14\n",
      "16\n",
      "18\n",
      "20\n"
     ]
    }
   ],
   "source": [
    "# Exercício 3\n",
    "\n",
    "for numero in range(0, 21):\n",
    "    if numero % 2 == 0:\n",
    "            print(numero)\n"
   ]
  },
  {
   "cell_type": "code",
   "execution_count": 6,
   "id": "d0c8d6cb",
   "metadata": {},
   "outputs": [
    {
     "name": "stdout",
     "output_type": "stream",
     "text": [
      "2\n",
      "3\n",
      "5\n",
      "7\n",
      "11\n",
      "13\n",
      "17\n",
      "19\n",
      "23\n",
      "29\n",
      "31\n",
      "37\n",
      "41\n",
      "43\n",
      "47\n",
      "53\n",
      "59\n",
      "61\n",
      "67\n",
      "71\n",
      "73\n",
      "79\n",
      "83\n",
      "89\n",
      "97\n"
     ]
    }
   ],
   "source": [
    "# Exercício 4\n",
    "\n",
    "# numeros primos\n",
    "for number in range (0,101):\n",
    "    if number > 1:\n",
    "        for i in range(2, number):\n",
    "            if number % i == 0:\n",
    "                break\n",
    "        else:\n",
    "            print(number)"
   ]
  },
  {
   "cell_type": "code",
   "execution_count": 7,
   "id": "dab251ff",
   "metadata": {},
   "outputs": [
    {
     "name": "stdout",
     "output_type": "stream",
     "text": [
      "22/10/2022\n"
     ]
    }
   ],
   "source": [
    "# Exercício 5\n",
    "dia = 22\n",
    "mes = 10\n",
    "ano = 2022\n",
    "\n",
    "print(f\"{dia}/{mes}/{ano}\")\n"
   ]
  },
  {
   "cell_type": "code",
   "execution_count": 12,
   "id": "a4568fa6",
   "metadata": {},
   "outputs": [
    {
     "name": "stdout",
     "output_type": "stream",
     "text": [
      "[1, 2, 3, 5, 8, 14]\n"
     ]
    }
   ],
   "source": [
    "# Exercício 6\n",
    "\n",
    "# Declara as listas fornecidas\n",
    "a = [1, 1, 2, 3, 5, 8, 14, 21, 34, 55, 89]\n",
    "b = [1, 2, 3, 4, 5, 6, 7, 8, 9, 10, 11, 12, 13, 14, 15]\n",
    "\n",
    "# Converte as listas em conjuntos para eliminar duplicatas e facilitar a interseção\n",
    "set_a = set(a)\n",
    "set_b = set(b)\n",
    "\n",
    "# Encontra a interseção dos dois conjuntos\n",
    "comum = set_a & set_b\n",
    "\n",
    "# Converte o conjunto resultante em uma lista (opcional) e imprime o resultado\n",
    "comum_lista = list(comum)\n",
    "print(comum_lista)\n"
   ]
  },
  {
   "cell_type": "code",
   "execution_count": 15,
   "id": "b09f2491",
   "metadata": {},
   "outputs": [
    {
     "name": "stdout",
     "output_type": "stream",
     "text": [
      "[1, 9, 25, 49, 81]\n"
     ]
    }
   ],
   "source": [
    "# Exercício 7\n",
    "\n",
    "a = [1, 4, 9, 16, 25, 36, 49, 64, 81, 100]\n",
    "lista_impares = []\n",
    "\n",
    "for i in a:\n",
    "    if i % 2 != 0:\n",
    "        lista_impares.append(i)\n",
    "\n",
    "print (lista_impares)"
   ]
  },
  {
   "cell_type": "code",
   "execution_count": 20,
   "id": "109d978b",
   "metadata": {},
   "outputs": [
    {
     "name": "stdout",
     "output_type": "stream",
     "text": [
      "A palavra: maça não é um palíndromo\n",
      "A palavra: arara é um palíndromo\n",
      "A palavra: audio não é um palíndromo\n",
      "A palavra: radio não é um palíndromo\n",
      "A palavra: radar é um palíndromo\n",
      "A palavra: moto não é um palíndromo\n"
     ]
    }
   ],
   "source": [
    "# Exercício 8\n",
    "\n",
    "lista = ['maça', 'arara', 'audio', 'radio', 'radar', 'moto']\n",
    "\n",
    "for palavra in lista:\n",
    "  if palavra == palavra[::-1]:\n",
    "    print(f'A palavra: {palavra} é um palíndromo')\n",
    "  else:\n",
    "    print(f'A palavra: {palavra} não é um palíndromo')"
   ]
  },
  {
   "cell_type": "code",
   "execution_count": 21,
   "id": "fddad52d",
   "metadata": {},
   "outputs": [
    {
     "name": "stdout",
     "output_type": "stream",
     "text": [
      "0 - Joao Soares está com 19 anos\n",
      "1 - Douglas Souza está com 28 anos\n",
      "2 - Lucas Silveira está com 25 anos\n",
      "3 - José Pedreira está com 31 anos\n"
     ]
    }
   ],
   "source": [
    "# Exercício 9\n",
    "\n",
    "primeirosNomes = ['Joao', 'Douglas', 'Lucas', 'José']\n",
    "sobreNomes = ['Soares', 'Souza', 'Silveira', 'Pedreira']\n",
    "idades = [19, 28, 25, 31]\n",
    "\n",
    "# Percorrendo as listas e imprimindo os dados na estrutura desejada\n",
    "for indice, (primeiroNome, sobreNome, idade) in enumerate(zip(primeirosNomes, sobreNomes, idades)):\n",
    "    print(f\"{indice} - {primeiroNome} {sobreNome} está com {idade} anos\")\n"
   ]
  },
  {
   "cell_type": "code",
   "execution_count": 29,
   "id": "1cc02c84",
   "metadata": {},
   "outputs": [
    {
     "name": "stdout",
     "output_type": "stream",
     "text": [
      "['123', 'abc']\n"
     ]
    }
   ],
   "source": [
    "# Exercício 10\n",
    "\n",
    "lista_inicial = ['abc', 'abc', 'abc', '123', 'abc', '123', '123']\n",
    "lista_sem_duplicatas = set(lista_inicial)\n",
    "print(list(lista_sem_duplicatas))"
   ]
  },
  {
   "cell_type": "code",
   "execution_count": 30,
   "id": "07c376af",
   "metadata": {},
   "outputs": [
    {
     "name": "stdout",
     "output_type": "stream",
     "text": [
      "{'name': 'Fulano Da Silva', 'endereco': 'Rua Sem Nome, 31', 'startDateExecution': '2019-06-25 16:25:23.233', 'endDateExecution': '2019-06-25 16:25:23.331', 'siteId': 'BrasilDesktop', 'sitePage': '/', 'serverName': 'AS1332:10181', 'profileId': '8947071299', 'type': 'JSP_RENDERING', 'path': 'testado/com', 'performanceType': 'JSP_RENDERING'}\n"
     ]
    }
   ],
   "source": [
    "# Exercício 11\n",
    "\n",
    "import json\n",
    "# Abrir e ler o conteúdo do arquivo\n",
    "with open('person.json', 'r') as arquivo:\n",
    "    conteudo = json.load(arquivo)\n",
    "\n",
    "# Imprimir o conteúdo do JSON\n",
    "print(conteudo)"
   ]
  },
  {
   "cell_type": "code",
   "execution_count": 31,
   "id": "87e46037",
   "metadata": {},
   "outputs": [
    {
     "name": "stdout",
     "output_type": "stream",
     "text": [
      "[1, 4, 9, 16, 25, 36, 49, 64, 81, 100]\n"
     ]
    }
   ],
   "source": [
    "# Exercício 12\n",
    "\n",
    "def my_map(lst, func):\n",
    "    return [func(x) for x in lst]\n",
    "\n",
    "# Lista de entrada\n",
    "input_list = [1, 2, 3, 4, 5, 6, 7, 8, 9, 10]\n",
    "\n",
    "# Função que calcula a potência de 2\n",
    "def power_of_two(x):\n",
    "    return x ** 2\n",
    "\n",
    "# Aplicando a função my_map\n",
    "output_list = my_map(input_list, power_of_two)\n",
    "\n",
    "# Exibindo o resultado\n",
    "print(output_list)\n"
   ]
  },
  {
   "cell_type": "code",
   "execution_count": 34,
   "id": "db3cdead",
   "metadata": {},
   "outputs": [
    {
     "name": "stdout",
     "output_type": "stream",
     "text": [
      "Este conteÃºdo estÃ¡ em\n",
      "um\n",
      "arquivo\n",
      "de texto."
     ]
    }
   ],
   "source": [
    "# Exercício 13\n",
    "\n",
    "with open('arquivo_texto.txt', 'r') as arquivo:\n",
    "    print(arquivo.read(), end=\"\")"
   ]
  },
  {
   "cell_type": "code",
   "execution_count": 35,
   "id": "ad1cc22e",
   "metadata": {},
   "outputs": [
    {
     "name": "stdout",
     "output_type": "stream",
     "text": [
      "1\n",
      "3\n",
      "4\n",
      "hello\n",
      "alguma coisa\n",
      "20\n"
     ]
    }
   ],
   "source": [
    "# Exercício 14\n",
    "\n",
    "def imprimir_parametros(*args, **kwargs):\n",
    "    for arg in args:\n",
    "        print(arg)\n",
    "    \n",
    "    for value in kwargs.values():\n",
    "        print(value)\n",
    "\n",
    "# Teste da função com os parâmetros especificados\n",
    "imprimir_parametros(1, 3, 4, 'hello', parametro_nomeado='alguma coisa', x=20)\n"
   ]
  },
  {
   "cell_type": "code",
   "execution_count": 36,
   "id": "8d335772",
   "metadata": {},
   "outputs": [
    {
     "name": "stdout",
     "output_type": "stream",
     "text": [
      "A lâmpada está ligada? True\n",
      "A lâmpada ainda está ligada? False\n"
     ]
    }
   ],
   "source": [
    "# Exercício 15\n",
    "\n",
    "class Lampada:\n",
    "    def __init__(self, ligada):\n",
    "        self.ligada = ligada\n",
    "    \n",
    "    def liga(self):\n",
    "        self.ligada = True\n",
    "    \n",
    "    def desliga(self):\n",
    "        self.ligada = False\n",
    "    \n",
    "    def esta_ligada(self):\n",
    "        return self.ligada\n",
    "\n",
    "# Teste da classe Lampada\n",
    "lampada = Lampada(False)\n",
    "\n",
    "# Ligue a lâmpada\n",
    "lampada.liga()\n",
    "\n",
    "# Imprima: A lâmpada está ligada?\n",
    "print(\"A lâmpada está ligada?\", lampada.esta_ligada())\n",
    "\n",
    "# Desligue a lâmpada\n",
    "lampada.desliga()\n",
    "\n",
    "# Imprima: A lâmpada ainda está ligada?\n",
    "print(\"A lâmpada ainda está ligada?\", lampada.esta_ligada())\n"
   ]
  },
  {
   "cell_type": "code",
   "execution_count": 38,
   "id": "dffabf10",
   "metadata": {},
   "outputs": [
    {
     "name": "stdout",
     "output_type": "stream",
     "text": [
      "100\n"
     ]
    }
   ],
   "source": [
    "# Exercício 16\n",
    "\n",
    "def soma_numeros(string_numeros):\n",
    "    # Divide a string nos números individuais e converte cada um em um inteiro\n",
    "    numeros = [int(num) for num in string_numeros.split(',')]\n",
    "    # Retorna a soma dos números\n",
    "    return sum(numeros)\n",
    "\n",
    "string_numeros = \"1,3,4,6,10,76\"\n",
    "soma = soma_numeros(string_numeros)\n",
    "\n",
    "# Imprime a soma dos valores\n",
    "print(soma)\n"
   ]
  },
  {
   "cell_type": "code",
   "execution_count": 39,
   "id": "5c1f70c8",
   "metadata": {},
   "outputs": [
    {
     "name": "stdout",
     "output_type": "stream",
     "text": [
      "[1, 2, 3, 4] [5, 6, 7, 8] [9, 10, 11, 12]\n"
     ]
    }
   ],
   "source": [
    "# Exercício 17\n",
    "\n",
    "def dividir_lista(lista):\n",
    "    tamanho_parte = len(lista) // 3  # Calcula o tamanho de cada parte\n",
    "    parte1 = lista[:tamanho_parte]  # Primeira parte\n",
    "    parte2 = lista[tamanho_parte:2*tamanho_parte]  # Segunda parte\n",
    "    parte3 = lista[2*tamanho_parte:]  # Terceira parte\n",
    "    return parte1, parte2, parte3  # Retorna as partes como uma tupla\n",
    "\n",
    "# Teste da função com a lista fornecida\n",
    "lista = [1, 2, 3, 4, 5, 6, 7, 8, 9, 10, 11, 12]\n",
    "parte1, parte2, parte3 = dividir_lista(lista)\n",
    "\n",
    "print(parte1, parte2, parte3)  # Imprime as partes da lista\n"
   ]
  },
  {
   "cell_type": "code",
   "execution_count": 40,
   "id": "d7ed43c7",
   "metadata": {},
   "outputs": [
    {
     "name": "stdout",
     "output_type": "stream",
     "text": [
      "[44, 47, 52, 53, 54]\n"
     ]
    }
   ],
   "source": [
    "# Exercício 18\n",
    "\n",
    "speed = {'jan':47, 'feb':52, 'march':47, 'April':44, 'May':52, 'June':53, 'july':54, 'Aug':44, 'Sept':54}\n",
    "\n",
    "# Criar um conjunto (set) remover duplicatas\n",
    "valores_unicos = set(speed.values())\n",
    "\n",
    "# Converter o conjunto de volta para uma lista\n",
    "lista_valores_unicos = list(valores_unicos)\n",
    "\n",
    "# Imprimir a lista de valores únicos\n",
    "print(lista_valores_unicos)\n"
   ]
  },
  {
   "cell_type": "code",
   "execution_count": 41,
   "id": "68ea5b55",
   "metadata": {},
   "outputs": [
    {
     "name": "stdout",
     "output_type": "stream",
     "text": [
      "Media: 237.6, Mediana: 218.0, Mínimo: 6, Máximo: 497\n"
     ]
    }
   ],
   "source": [
    "# Exercício 19\n",
    "\n",
    "import random\n",
    "\n",
    "random_list = random.sample(range(500), 50)\n",
    "\n",
    "mediana = 0\n",
    "media = 0\n",
    "valor_minimo = 0\n",
    "valor_maximo = 0\n",
    "\n",
    "valor_minimo = min(random_list)\n",
    "valor_maximo = max(random_list)\n",
    "\n",
    "soma = sum(random_list)\n",
    "media = soma / len(random_list)\n",
    "\n",
    "# Ordenação da lista para calcular a mediana\n",
    "random_list.sort()\n",
    "\n",
    "# Cálculo da mediana\n",
    "tamanho_lista = len(random_list)\n",
    "if tamanho_lista % 2 == 0:\n",
    "    mediana = (random_list[tamanho_lista // 2 - 1] + random_list[tamanho_lista // 2]) / 2\n",
    "else:\n",
    "    mediana = random_list[tamanho_lista // 2]\n",
    "\n",
    "# Imprime os resultados\n",
    "print(f\"Media: {media}, Mediana: {mediana}, Mínimo: {valor_minimo}, Máximo: {valor_maximo}\")\n"
   ]
  },
  {
   "cell_type": "code",
   "execution_count": 42,
   "id": "3fd645bc",
   "metadata": {},
   "outputs": [
    {
     "name": "stdout",
     "output_type": "stream",
     "text": [
      "[89, 55, 34, 21, 13, 8, 5, 3, 2, 0, 1]\n"
     ]
    }
   ],
   "source": [
    "# Exercício 20\n",
    "\n",
    "lista_reversa = [1, 0, 2, 3, 5, 8, 13, 21, 34, 55, 89][::-1]\n",
    "\n",
    "print(lista_reversa)"
   ]
  },
  {
   "cell_type": "code",
   "execution_count": 43,
   "id": "e526aad5",
   "metadata": {},
   "outputs": [
    {
     "name": "stdout",
     "output_type": "stream",
     "text": [
      "Pato\n",
      "Voando...\n",
      "Pato emitindo som...\n",
      "Quack Quack\n",
      "\n",
      "Pardal\n",
      "Voando...\n",
      "Pardal emitindo som...\n",
      "Piu Piu\n"
     ]
    }
   ],
   "source": [
    "# Exercício 21\n",
    "\n",
    "class Passaro:\n",
    "    def voar(self):\n",
    "        print(\"Voando...\")\n",
    "    \n",
    "    def emitir_som(self):\n",
    "        pass\n",
    "\n",
    "class Pato(Passaro):\n",
    "    def emitir_som(self):\n",
    "        print(\"Pato emitindo som...\")\n",
    "        print(\"Quack Quack\")\n",
    "\n",
    "class Pardal(Passaro):\n",
    "    def emitir_som(self):\n",
    "        print(\"Pardal emitindo som...\")\n",
    "        print(\"Piu Piu\")\n",
    "\n",
    "if __name__ == \"__main__\":\n",
    "    pato = Pato()\n",
    "    print(\"Pato\")\n",
    "    pato.voar()\n",
    "    pato.emitir_som()\n",
    "\n",
    "    print()\n",
    "\n",
    "    pardal = Pardal()\n",
    "    print(\"Pardal\")\n",
    "    pardal.voar()\n",
    "    pardal.emitir_som()\n"
   ]
  },
  {
   "cell_type": "code",
   "execution_count": 44,
   "id": "0aadb18d",
   "metadata": {},
   "outputs": [
    {
     "name": "stdout",
     "output_type": "stream",
     "text": [
      "Fulano De Tal\n"
     ]
    }
   ],
   "source": [
    "# Exercício 22\n",
    "\n",
    "class Pessoa:\n",
    "    def __init__(self, identificacao):\n",
    "        self.id = identificacao\n",
    "        self.__nome = None\n",
    "\n",
    "    @property\n",
    "    def nome(self):\n",
    "        return self.__nome\n",
    "\n",
    "    @nome.setter\n",
    "    def nome(self, novo_nome):\n",
    "        self.__nome = novo_nome\n",
    "\n",
    "pessoa = Pessoa(0)\n",
    "pessoa.nome = 'Fulano De Tal'\n",
    "print(pessoa.nome)\n"
   ]
  },
  {
   "cell_type": "code",
   "execution_count": 45,
   "id": "3321d62e",
   "metadata": {},
   "outputs": [
    {
     "name": "stdout",
     "output_type": "stream",
     "text": [
      "Somando: 4+5 = 9\n",
      "Subtraindo: 4-5 = -1\n"
     ]
    }
   ],
   "source": [
    "# Exercício 23\n",
    "\n",
    "class Calculo:\n",
    "    def soma(self, x, y):\n",
    "        return x + y\n",
    "    \n",
    "    def subtracao(self, x, y):\n",
    "        return x - y\n",
    "\n",
    "if __name__ == \"__main__\":\n",
    "    x = 4\n",
    "    y = 5\n",
    "    \n",
    "    calculadora = Calculo()\n",
    "    \n",
    "    # Realiza a soma\n",
    "    resultado_soma = calculadora.soma(x, y)\n",
    "    print(f\"Somando: {x}+{y} = {resultado_soma}\")\n",
    "    \n",
    "    # Realiza a subtração\n",
    "    resultado_subtracao = calculadora.subtracao(x, y)\n",
    "    print(f\"Subtraindo: {x}-{y} = {resultado_subtracao}\")\n"
   ]
  },
  {
   "cell_type": "code",
   "execution_count": 46,
   "id": "72ab1739",
   "metadata": {},
   "outputs": [
    {
     "name": "stdout",
     "output_type": "stream",
     "text": [
      "[1, 2, 3, 4, 5]\n",
      "[9, 8, 7, 6]\n"
     ]
    }
   ],
   "source": [
    "# Exercício 24\n",
    "\n",
    "class Ordenadora:\n",
    "    def __init__(self, listaBaguncada):\n",
    "        self.listaBaguncada = listaBaguncada\n",
    "\n",
    "    def ordenacaoCrescente(self):\n",
    "        self.listaBaguncada.sort()\n",
    "        return self.listaBaguncada\n",
    "\n",
    "    def ordenacaoDecrescente(self):\n",
    "        self.listaBaguncada.sort(reverse=True)\n",
    "        return self.listaBaguncada\n",
    "\n",
    "# Instanciando objetos e ordenando as listas\n",
    "crescente = Ordenadora([3, 4, 2, 1, 5])\n",
    "lista_crescente = crescente.ordenacaoCrescente()\n",
    "\n",
    "decrescente = Ordenadora([9, 7, 6, 8])\n",
    "lista_decrescente = decrescente.ordenacaoDecrescente()\n",
    "\n",
    "# Imprimindo resultados\n",
    "print(lista_crescente)\n",
    "print(lista_decrescente)\n"
   ]
  },
  {
   "cell_type": "code",
   "execution_count": 47,
   "id": "bc4910d6",
   "metadata": {},
   "outputs": [
    {
     "name": "stdout",
     "output_type": "stream",
     "text": [
      "O avião de modelo \"BOIENG456\" possui uma velocidade máxima de \"1500 km/h\", capacidade para \"400\" passageiros e é da cor \"azul\".\n",
      "O avião de modelo \"Embraer Praetor 600\" possui uma velocidade máxima de \"863 km/h\", capacidade para \"14\" passageiros e é da cor \"azul\".\n",
      "O avião de modelo \"Antonov An-2\" possui uma velocidade máxima de \"258 km/h\", capacidade para \"12\" passageiros e é da cor \"azul\".\n"
     ]
    }
   ],
   "source": [
    "# Exercício 25\n",
    "\n",
    "class Aviao:\n",
    "    # Atributo de classe para definir a cor como \"azul\" para todas as instâncias\n",
    "    cor = \"azul\"\n",
    "\n",
    "    def __init__(self, modelo, velocidade_maxima, capacidade):\n",
    "        self.modelo = modelo\n",
    "        self.velocidade_maxima = velocidade_maxima\n",
    "        self.capacidade = capacidade\n",
    "\n",
    "entradas = [\n",
    "    (\"BOIENG456\", \"1500 km/h\", 400),\n",
    "    (\"Embraer Praetor 600\", \"863 km/h\", 14),\n",
    "    (\"Antonov An-2\", \"258 km/h\", 12)\n",
    "]\n",
    "\n",
    "lista_avioes = []\n",
    "for entrada in entradas:\n",
    "    modelo, velocidade_maxima, capacidade = entrada\n",
    "    aviao = Aviao(modelo, velocidade_maxima, capacidade)\n",
    "    lista_avioes.append(aviao)\n",
    "\n",
    "for aviao in lista_avioes:\n",
    "    print(f\"O avião de modelo \\\"{aviao.modelo}\\\" possui uma velocidade máxima de \\\"{aviao.velocidade_maxima}\\\", capacidade para \\\"{aviao.capacidade}\\\" passageiros e é da cor \\\"{aviao.cor}\\\".\")\n"
   ]
  },
  {
   "cell_type": "code",
   "execution_count": null,
   "id": "da33b1a0",
   "metadata": {},
   "outputs": [],
   "source": []
  }
 ],
 "metadata": {
  "kernelspec": {
   "display_name": "Python 3 (ipykernel)",
   "language": "python",
   "name": "python3"
  },
  "language_info": {
   "codemirror_mode": {
    "name": "ipython",
    "version": 3
   },
   "file_extension": ".py",
   "mimetype": "text/x-python",
   "name": "python",
   "nbconvert_exporter": "python",
   "pygments_lexer": "ipython3",
   "version": "3.11.4"
  }
 },
 "nbformat": 4,
 "nbformat_minor": 5
}
